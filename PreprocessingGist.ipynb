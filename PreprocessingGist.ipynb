{
 "cells": [
  {
   "cell_type": "code",
   "execution_count": 1,
   "metadata": {
    "collapsed": true
   },
   "outputs": [],
   "source": [
    "import numpy as np\n",
    "from music21 import converter, note, duration\n",
    "import pandas as pd\n",
    "\n",
    "# Custom Midi note object\n",
    "from midi_note import MIDINote\n",
    "\n",
    "#utility\n",
    "import random\n",
    "import copy\n",
    "from bidict import bidict"
   ]
  },
  {
   "cell_type": "markdown",
   "metadata": {},
   "source": [
    "## Preprocessing Simulation\n",
    "\n",
    "This notebook is a gist of the overall preprocessing step the researcher applied to the dataset.\n",
    "\n",
    "![](http://www.musicxlab.com/img/logo-fine.4b1b5226.png)\n",
    "The study used the dataset from [Music-X-Lab](http://www.musicxlab.com/) from the study [POP909: A Pop-song Dataset for Music Arrangement Generation](https://arxiv.org/abs/2008.07142).\n",
    "\n",
    "Clone the data repository at [POP909](https://github.com/music-x-lab/POP909-Dataset)."
   ]
  },
  {
   "cell_type": "code",
   "execution_count": 2,
   "metadata": {
    "pycharm": {
     "name": "#%%\n"
    }
   },
   "outputs": [],
   "source": [
    "# path of the data storage\n",
    "PATH = \"POP909\""
   ]
  },
  {
   "cell_type": "markdown",
   "metadata": {
    "pycharm": {
     "name": "#%% md\n"
    }
   },
   "source": [
    "####  Data Selection for simulation\n",
    "The researcher collected all the songs belonging to 4 musical key for the simulation from the dataset:\n",
    " - E minor\n",
    " - D minor\n",
    " - A major\n",
    " - C Major"
   ]
  },
  {
   "cell_type": "code",
   "execution_count": 3,
   "metadata": {
    "collapsed": false,
    "pycharm": {
     "name": "#%%\n"
    }
   },
   "outputs": [],
   "source": [
    "songs_by_key = dict()\n",
    "\n",
    "songs_by_key[\"Emin\"] = ['033', '034', '056', '071', '078', '116', '130', '240', '272', '276', '283', '317', '322',\n",
    "                        '380', '457', '458', '476', '501', '520', '560', '566', '578', '625', '653', '667', '680',\n",
    "                        '693', '740', '772', '788', '854', '899']\n",
    "songs_by_key[\"Dmin\"] = ['027', '040', '073', '103', '125', '141', '151', '158', '198', '226', '284', '295', '297',\n",
    "                        '344', '378', '384', '389', '446', '451', '587', '604', '610', '627', '682', '689', '791',\n",
    "                        '842', '845', '852', '859', '894']\n",
    "songs_by_key[\"Amaj\"] = ['058', '086', '102', '155', '174', '183', '208', '231', '291', '346', '353', '362', '410',\n",
    "                        '463', '475', '478', '497', '499', '615', '641', '687', '691', '721', '728', '751', '774',\n",
    "                        '810', '867', '891']\n",
    "songs_by_key[\"Cmaj\"] = ['038', '055', '068', '079', '131', '132', '136', '171', '172', '185', '203', '211', '216',\n",
    "                        '233', '243', '278', '293', '312', '319', '320', '326', '331', '368', '386', '432', '459',\n",
    "                        '493', '496', '548', '570', '591', '603', '612', '621', '702', '710', '714', '722', '735',\n",
    "                        '761', '793', '824', '833', '873', '888', '892', '909']"
   ]
  },
  {
   "cell_type": "markdown",
   "metadata": {
    "pycharm": {
     "name": "#%% md\n"
    }
   },
   "source": [
    "#### Song Selection\n",
    "Set how many songs will be selected for each music key using the *sample_limit* parameter.\n",
    "\n",
    "Note: *To simulate using random sample, set* **random_selection=<span style=\"color:green\">True </span>**"
   ]
  },
  {
   "cell_type": "code",
   "execution_count": 4,
   "metadata": {
    "collapsed": false,
    "pycharm": {
     "name": "#%%\n"
    }
   },
   "outputs": [],
   "source": [
    "sample_limit = 4\n",
    "all_song_ids = []\n",
    "random_selection = True\n",
    "for key, song_ids in songs_by_key.items():\n",
    "    if random_selection:\n",
    "        all_song_ids += random.sample(song_ids, sample_limit)\n",
    "    else:\n",
    "        all_song_ids += songs_by_key[key][:sample_limit]"
   ]
  },
  {
   "cell_type": "markdown",
   "metadata": {
    "pycharm": {
     "name": "#%% md\n"
    }
   },
   "source": [
    "### Parse Raw Notes Function\n",
    "\n",
    "This function parses a midi file into a python runnable data structure, filters the melody part of the midi song, and save the properties (duration type, length, pitch) a note to create a Note Object.\n",
    "<p> Example of a Note object: { note: C#4, duration_type: whole, length: 4 }"
   ]
  },
  {
   "cell_type": "code",
   "execution_count": 5,
   "metadata": {
    "collapsed": false,
    "pycharm": {
     "name": "#%%\n"
    }
   },
   "outputs": [
    {
     "name": "stdout",
     "output_type": "stream",
     "text": [
      "Loading Music File: POP909/283/283.mid\n",
      "Loading Music File: POP909/680/680.mid\n",
      "Loading Music File: POP909/240/240.mid\n",
      "Loading Music File: POP909/033/033.mid\n",
      "Loading Music File: POP909/295/295.mid\n",
      "Loading Music File: POP909/141/141.mid\n",
      "Loading Music File: POP909/852/852.mid\n",
      "Loading Music File: POP909/587/587.mid\n",
      "Loading Music File: POP909/475/475.mid\n",
      "Loading Music File: POP909/499/499.mid\n",
      "Loading Music File: POP909/183/183.mid\n",
      "Loading Music File: POP909/721/721.mid\n",
      "Loading Music File: POP909/892/892.mid\n",
      "Loading Music File: POP909/079/079.mid\n",
      "Loading Music File: POP909/793/793.mid\n",
      "Loading Music File: POP909/570/570.mid\n"
     ]
    }
   ],
   "source": [
    "def parse_raw_notes(file_path):\n",
    "    print(\"Loading Music File:\", file_path)\n",
    "    raw_notes = []\n",
    "    midi_data = converter.parse(file_path)\n",
    "    for part in midi_data.parts:\n",
    "        if part.partName == 'MELODY':\n",
    "            midi_elements = part.recurse()\n",
    "            for element in midi_elements:\n",
    "                if isinstance(element, note.Note):\n",
    "                    note_duration = duration.Duration()\n",
    "                    note_duration.quarterLength = element.quarterLength\n",
    "                    raw_note = str(element.pitch)\n",
    "                    raw_notes.append(MIDINote(raw_note, str(note_duration.type), str(element.quarterLength)).as_map)\n",
    "    return raw_notes\n",
    "\n",
    "\n",
    "parsed_midi_notes = []\n",
    "for song_id in all_song_ids:\n",
    "    song_path = f\"{PATH}/{song_id}/{song_id}.mid\"\n",
    "    parsed_raw_notes = parse_raw_notes(song_path)\n",
    "    parsed_midi_notes.append(parsed_raw_notes)"
   ]
  },
  {
   "cell_type": "markdown",
   "metadata": {
    "pycharm": {
     "name": "#%% md\n"
    }
   },
   "source": [
    "### This function returns a random song on a given list\n",
    "This function will be used throughout the simulation to randomly select and display a song after every preprocessing steps."
   ]
  },
  {
   "cell_type": "code",
   "execution_count": 8,
   "metadata": {
    "collapsed": false,
    "pycharm": {
     "name": "#%%\n"
    }
   },
   "outputs": [],
   "source": [
    "def get_random_song(song_list):\n",
    "    rand_song_id = random.randint(0, len(song_list) - 1)\n",
    "    rand_song = song_list[rand_song_id]\n",
    "    return rand_song, rand_song_id"
   ]
  },
  {
   "cell_type": "markdown",
   "metadata": {
    "pycharm": {
     "name": "#%% md\n"
    }
   },
   "source": [
    "### View random song\n",
    "Get a general view of what a parsed midi song looks like."
   ]
  },
  {
   "cell_type": "code",
   "execution_count": 9,
   "metadata": {
    "collapsed": false,
    "pycharm": {
     "name": "#%%\n"
    }
   },
   "outputs": [
    {
     "name": "stdout",
     "output_type": "stream",
     "text": [
      "Randomly selected song id: 6\n"
     ]
    },
    {
     "data": {
      "text/plain": "  note duration_type length\n0   D5          16th   0.25\n1   C5          16th   0.25\n2   D5       quarter    2/3\n3   D5          32nd   1/12\n4   C5          16th   0.25\n5   D5        eighth    0.5\n6   C5          16th   0.25\n7   A4        eighth   0.75\n8   F4          16th   0.25\n9   F4          16th   0.25",
      "text/html": "<div>\n<style scoped>\n    .dataframe tbody tr th:only-of-type {\n        vertical-align: middle;\n    }\n\n    .dataframe tbody tr th {\n        vertical-align: top;\n    }\n\n    .dataframe thead th {\n        text-align: right;\n    }\n</style>\n<table border=\"1\" class=\"dataframe\">\n  <thead>\n    <tr style=\"text-align: right;\">\n      <th></th>\n      <th>note</th>\n      <th>duration_type</th>\n      <th>length</th>\n    </tr>\n  </thead>\n  <tbody>\n    <tr>\n      <th>0</th>\n      <td>D5</td>\n      <td>16th</td>\n      <td>0.25</td>\n    </tr>\n    <tr>\n      <th>1</th>\n      <td>C5</td>\n      <td>16th</td>\n      <td>0.25</td>\n    </tr>\n    <tr>\n      <th>2</th>\n      <td>D5</td>\n      <td>quarter</td>\n      <td>2/3</td>\n    </tr>\n    <tr>\n      <th>3</th>\n      <td>D5</td>\n      <td>32nd</td>\n      <td>1/12</td>\n    </tr>\n    <tr>\n      <th>4</th>\n      <td>C5</td>\n      <td>16th</td>\n      <td>0.25</td>\n    </tr>\n    <tr>\n      <th>5</th>\n      <td>D5</td>\n      <td>eighth</td>\n      <td>0.5</td>\n    </tr>\n    <tr>\n      <th>6</th>\n      <td>C5</td>\n      <td>16th</td>\n      <td>0.25</td>\n    </tr>\n    <tr>\n      <th>7</th>\n      <td>A4</td>\n      <td>eighth</td>\n      <td>0.75</td>\n    </tr>\n    <tr>\n      <th>8</th>\n      <td>F4</td>\n      <td>16th</td>\n      <td>0.25</td>\n    </tr>\n    <tr>\n      <th>9</th>\n      <td>F4</td>\n      <td>16th</td>\n      <td>0.25</td>\n    </tr>\n  </tbody>\n</table>\n</div>"
     },
     "execution_count": 9,
     "metadata": {},
     "output_type": "execute_result"
    }
   ],
   "source": [
    "random_song, random_song_id = get_random_song(parsed_midi_notes)\n",
    "data_frame = pd.DataFrame(random_song)\n",
    "print(\"Randomly selected song id:\", random_song_id)\n",
    "data_frame.head(10)"
   ]
  },
  {
   "cell_type": "markdown",
   "metadata": {
    "pycharm": {
     "name": "#%% md\n"
    }
   },
   "source": [
    "### View random song with flats\n",
    "Randomly select song to check/show flat notes"
   ]
  },
  {
   "cell_type": "code",
   "execution_count": 22,
   "metadata": {
    "collapsed": false,
    "pycharm": {
     "name": "#%%\n"
    }
   },
   "outputs": [
    {
     "name": "stdout",
     "output_type": "stream",
     "text": [
      "Randomly selected song id: 4\n"
     ]
    },
    {
     "data": {
      "text/plain": "    note duration_type length\n134  B-4          16th   0.25\n136  B-4          16th   0.25\n138  B-4        eighth    0.5\n143  B-4        eighth    0.5\n144  B-4          16th   0.25\n187  B-4          16th   0.25\n222  B-4          16th   0.25\n332  B-4          16th   0.25\n334  B-4          16th   0.25\n336  B-4        eighth    0.5",
      "text/html": "<div>\n<style scoped>\n    .dataframe tbody tr th:only-of-type {\n        vertical-align: middle;\n    }\n\n    .dataframe tbody tr th {\n        vertical-align: top;\n    }\n\n    .dataframe thead th {\n        text-align: right;\n    }\n</style>\n<table border=\"1\" class=\"dataframe\">\n  <thead>\n    <tr style=\"text-align: right;\">\n      <th></th>\n      <th>note</th>\n      <th>duration_type</th>\n      <th>length</th>\n    </tr>\n  </thead>\n  <tbody>\n    <tr>\n      <th>134</th>\n      <td>B-4</td>\n      <td>16th</td>\n      <td>0.25</td>\n    </tr>\n    <tr>\n      <th>136</th>\n      <td>B-4</td>\n      <td>16th</td>\n      <td>0.25</td>\n    </tr>\n    <tr>\n      <th>138</th>\n      <td>B-4</td>\n      <td>eighth</td>\n      <td>0.5</td>\n    </tr>\n    <tr>\n      <th>143</th>\n      <td>B-4</td>\n      <td>eighth</td>\n      <td>0.5</td>\n    </tr>\n    <tr>\n      <th>144</th>\n      <td>B-4</td>\n      <td>16th</td>\n      <td>0.25</td>\n    </tr>\n    <tr>\n      <th>187</th>\n      <td>B-4</td>\n      <td>16th</td>\n      <td>0.25</td>\n    </tr>\n    <tr>\n      <th>222</th>\n      <td>B-4</td>\n      <td>16th</td>\n      <td>0.25</td>\n    </tr>\n    <tr>\n      <th>332</th>\n      <td>B-4</td>\n      <td>16th</td>\n      <td>0.25</td>\n    </tr>\n    <tr>\n      <th>334</th>\n      <td>B-4</td>\n      <td>16th</td>\n      <td>0.25</td>\n    </tr>\n    <tr>\n      <th>336</th>\n      <td>B-4</td>\n      <td>eighth</td>\n      <td>0.5</td>\n    </tr>\n  </tbody>\n</table>\n</div>"
     },
     "execution_count": 22,
     "metadata": {},
     "output_type": "execute_result"
    }
   ],
   "source": [
    "# if default set id = 13, 5\n",
    "random_song, random_song_id = get_random_song(parsed_midi_notes)\n",
    "data_frame = pd.DataFrame(random_song)\n",
    "\n",
    "flats = data_frame[data_frame[\"note\"].str.contains(\"-\")]\n",
    "print(\"Randomly selected song id:\", random_song_id)\n",
    "flats.head(10)"
   ]
  },
  {
   "cell_type": "markdown",
   "metadata": {
    "pycharm": {
     "name": "#%% md\n"
    }
   },
   "source": [
    "## Initial preprocessing\n",
    "The initial preprocessing includes mapping of **flat** notes to its corresponding **sharp** values\n",
    "\n",
    "Example: *E-5 (E flat, 5th Octave) is equal to D#5 (D sharp, 5th Octave)*"
   ]
  },
  {
   "cell_type": "code",
   "execution_count": 23,
   "metadata": {
    "collapsed": false,
    "pycharm": {
     "name": "#%%\n"
    }
   },
   "outputs": [],
   "source": [
    "flats_map = {\n",
    "    'D-': 'C#',\n",
    "    'E-': 'D#',\n",
    "    'G-': 'F#',\n",
    "    'A-': 'G#',\n",
    "    'B-': 'A#'\n",
    "}\n",
    "\n",
    "\n",
    "def map_flat(song):\n",
    "    for song_note in song:\n",
    "        if \"-\" in song_note[\"note\"]:\n",
    "            flat_note = song_note[\"note\"][:2]\n",
    "            song_note[\"note\"] = song_note[\"note\"].replace(flat_note, flats_map[flat_note])\n",
    "\n",
    "\n",
    "def initial_preprocess(songs):\n",
    "    for song in songs:\n",
    "        map_flat(song)\n",
    "    return songs\n",
    "\n",
    "\n",
    "initial_preprocessed_notes = initial_preprocess(copy.deepcopy(parsed_midi_notes))"
   ]
  },
  {
   "cell_type": "markdown",
   "metadata": {
    "pycharm": {
     "name": "#%% md\n"
    }
   },
   "source": [
    "### View random song to check for flats\n",
    "All flats are mapped to sharps, therefore, selecting songs that contain flat values will show empty tables."
   ]
  },
  {
   "cell_type": "code",
   "execution_count": 24,
   "metadata": {
    "collapsed": false,
    "pycharm": {
     "name": "#%%\n"
    }
   },
   "outputs": [
    {
     "name": "stdout",
     "output_type": "stream",
     "text": [
      "Randomly selected song id: 14\n"
     ]
    },
    {
     "data": {
      "text/plain": "Empty DataFrame\nColumns: [note, duration_type, length]\nIndex: []",
      "text/html": "<div>\n<style scoped>\n    .dataframe tbody tr th:only-of-type {\n        vertical-align: middle;\n    }\n\n    .dataframe tbody tr th {\n        vertical-align: top;\n    }\n\n    .dataframe thead th {\n        text-align: right;\n    }\n</style>\n<table border=\"1\" class=\"dataframe\">\n  <thead>\n    <tr style=\"text-align: right;\">\n      <th></th>\n      <th>note</th>\n      <th>duration_type</th>\n      <th>length</th>\n    </tr>\n  </thead>\n  <tbody>\n  </tbody>\n</table>\n</div>"
     },
     "execution_count": 24,
     "metadata": {},
     "output_type": "execute_result"
    }
   ],
   "source": [
    "random_song, random_song_id = get_random_song(initial_preprocessed_notes)\n",
    "data_frame = pd.DataFrame(random_song)\n",
    "print(\"Randomly selected song id:\", random_song_id)\n",
    "# show if flats still exists\n",
    "flats = data_frame[data_frame[\"note\"].str.contains(\"-\")]\n",
    "flats.head(10)"
   ]
  },
  {
   "cell_type": "markdown",
   "metadata": {
    "pycharm": {
     "name": "#%% md\n"
    }
   },
   "source": [
    "### View random song to check for complex notes\n",
    "Some songs contain complex notes, they are notes that contain *advanced duration* (notes that are complex and tuplets with fractional durations not found on basic music notes"
   ]
  },
  {
   "cell_type": "code",
   "execution_count": 30,
   "metadata": {
    "collapsed": false,
    "pycharm": {
     "name": "#%%\n"
    }
   },
   "outputs": [
    {
     "name": "stdout",
     "output_type": "stream",
     "text": [
      "Randomly selected song id: 10\n"
     ]
    },
    {
     "data": {
      "text/plain": "    note duration_type length\n2     A4       complex   1.25\n31    A4       complex   1.25\n59    A4       complex   3.25\n61   C#5       complex   1.25\n96   C#5       complex   1.25\n105  F#4       complex   1.25\n217  C#5       complex   1.25\n252  C#5       complex   1.25\n261  F#4       complex   1.25",
      "text/html": "<div>\n<style scoped>\n    .dataframe tbody tr th:only-of-type {\n        vertical-align: middle;\n    }\n\n    .dataframe tbody tr th {\n        vertical-align: top;\n    }\n\n    .dataframe thead th {\n        text-align: right;\n    }\n</style>\n<table border=\"1\" class=\"dataframe\">\n  <thead>\n    <tr style=\"text-align: right;\">\n      <th></th>\n      <th>note</th>\n      <th>duration_type</th>\n      <th>length</th>\n    </tr>\n  </thead>\n  <tbody>\n    <tr>\n      <th>2</th>\n      <td>A4</td>\n      <td>complex</td>\n      <td>1.25</td>\n    </tr>\n    <tr>\n      <th>31</th>\n      <td>A4</td>\n      <td>complex</td>\n      <td>1.25</td>\n    </tr>\n    <tr>\n      <th>59</th>\n      <td>A4</td>\n      <td>complex</td>\n      <td>3.25</td>\n    </tr>\n    <tr>\n      <th>61</th>\n      <td>C#5</td>\n      <td>complex</td>\n      <td>1.25</td>\n    </tr>\n    <tr>\n      <th>96</th>\n      <td>C#5</td>\n      <td>complex</td>\n      <td>1.25</td>\n    </tr>\n    <tr>\n      <th>105</th>\n      <td>F#4</td>\n      <td>complex</td>\n      <td>1.25</td>\n    </tr>\n    <tr>\n      <th>217</th>\n      <td>C#5</td>\n      <td>complex</td>\n      <td>1.25</td>\n    </tr>\n    <tr>\n      <th>252</th>\n      <td>C#5</td>\n      <td>complex</td>\n      <td>1.25</td>\n    </tr>\n    <tr>\n      <th>261</th>\n      <td>F#4</td>\n      <td>complex</td>\n      <td>1.25</td>\n    </tr>\n  </tbody>\n</table>\n</div>"
     },
     "execution_count": 30,
     "metadata": {},
     "output_type": "execute_result"
    }
   ],
   "source": [
    "random_song, random_song_id = get_random_song(initial_preprocessed_notes)\n",
    "data_frame = pd.DataFrame(random_song)\n",
    "# show complex notes\n",
    "flats = data_frame[data_frame[\"duration_type\"] == \"complex\"]\n",
    "print(\"Randomly selected song id:\", random_song_id)\n",
    "flats.head(10)"
   ]
  },
  {
   "cell_type": "markdown",
   "metadata": {
    "pycharm": {
     "name": "#%% md\n"
    }
   },
   "source": [
    "### View random song to check for 32nd duration typed notes\n",
    "Some songs contain notes that have 32nd duration which is not included in our proposed output classes."
   ]
  },
  {
   "cell_type": "code",
   "execution_count": 32,
   "metadata": {
    "collapsed": false,
    "pycharm": {
     "name": "#%%\n"
    }
   },
   "outputs": [
    {
     "name": "stdout",
     "output_type": "stream",
     "text": [
      "Randomly selected song id: 11\n"
     ]
    },
    {
     "data": {
      "text/plain": "   note duration_type length\n2    D4          32nd   1/12\n7    B3          32nd   1/12\n10   A3          32nd   1/12\n13   B3          32nd   1/12\n30  C#4          32nd   1/12\n33   A3          32nd   1/12\n38   E4          32nd   1/12\n43   B3          32nd   1/12\n50  C#4          32nd   1/12\n61   A3          32nd   1/12",
      "text/html": "<div>\n<style scoped>\n    .dataframe tbody tr th:only-of-type {\n        vertical-align: middle;\n    }\n\n    .dataframe tbody tr th {\n        vertical-align: top;\n    }\n\n    .dataframe thead th {\n        text-align: right;\n    }\n</style>\n<table border=\"1\" class=\"dataframe\">\n  <thead>\n    <tr style=\"text-align: right;\">\n      <th></th>\n      <th>note</th>\n      <th>duration_type</th>\n      <th>length</th>\n    </tr>\n  </thead>\n  <tbody>\n    <tr>\n      <th>2</th>\n      <td>D4</td>\n      <td>32nd</td>\n      <td>1/12</td>\n    </tr>\n    <tr>\n      <th>7</th>\n      <td>B3</td>\n      <td>32nd</td>\n      <td>1/12</td>\n    </tr>\n    <tr>\n      <th>10</th>\n      <td>A3</td>\n      <td>32nd</td>\n      <td>1/12</td>\n    </tr>\n    <tr>\n      <th>13</th>\n      <td>B3</td>\n      <td>32nd</td>\n      <td>1/12</td>\n    </tr>\n    <tr>\n      <th>30</th>\n      <td>C#4</td>\n      <td>32nd</td>\n      <td>1/12</td>\n    </tr>\n    <tr>\n      <th>33</th>\n      <td>A3</td>\n      <td>32nd</td>\n      <td>1/12</td>\n    </tr>\n    <tr>\n      <th>38</th>\n      <td>E4</td>\n      <td>32nd</td>\n      <td>1/12</td>\n    </tr>\n    <tr>\n      <th>43</th>\n      <td>B3</td>\n      <td>32nd</td>\n      <td>1/12</td>\n    </tr>\n    <tr>\n      <th>50</th>\n      <td>C#4</td>\n      <td>32nd</td>\n      <td>1/12</td>\n    </tr>\n    <tr>\n      <th>61</th>\n      <td>A3</td>\n      <td>32nd</td>\n      <td>1/12</td>\n    </tr>\n  </tbody>\n</table>\n</div>"
     },
     "execution_count": 32,
     "metadata": {},
     "output_type": "execute_result"
    }
   ],
   "source": [
    "random_song, random_song_id = get_random_song(initial_preprocessed_notes)\n",
    "data_frame = pd.DataFrame(random_song)\n",
    "# show 32nd notes\n",
    "flats = data_frame[data_frame[\"duration_type\"] == \"32nd\"]\n",
    "print(\"Randomly selected song id:\", random_song_id)\n",
    "flats.head(10)"
   ]
  },
  {
   "cell_type": "markdown",
   "metadata": {
    "pycharm": {
     "name": "#%% md\n"
    }
   },
   "source": [
    "## Second Preprocessing\n",
    "The second preprocessing involves mapping the standard length for each duration type, mapping complex notes\n",
    "to its nearest non-complex note, and rounding up of all 32nd duration-typed notes to 16th ."
   ]
  },
  {
   "cell_type": "code",
   "execution_count": 33,
   "metadata": {
    "collapsed": false,
    "pycharm": {
     "name": "#%%\n"
    }
   },
   "outputs": [],
   "source": [
    "duration_map = {\n",
    "    'whole': 4.0,\n",
    "    'half': 2.0,\n",
    "    'quarter': 1.0,\n",
    "    'eighth': 0.5,\n",
    "    '16th': 0.25,\n",
    "}\n",
    "\n",
    "\n",
    "def map_duration(song):\n",
    "    duration_type = song[\"duration_type\"]\n",
    "    if duration_type in duration_map:\n",
    "        song[\"length\"] = duration_map[duration_type]\n",
    "        return\n",
    "    # if note is 32nd then it is transformed in to 16th\n",
    "    if duration_type == \"32nd\":\n",
    "        song[\"duration_type\"] = \"16th\"\n",
    "        song[\"length\"] = 0.25\n",
    "\n",
    "    # if a note is complex then map it to its nearest non-complex note\n",
    "    if duration_type == \"complex\":\n",
    "        length = float(song[\"length\"])\n",
    "        if length <= 0.25:\n",
    "            song[\"duration_type\"] = \"16th\"\n",
    "            song[\"length\"] = \"0.25\"\n",
    "\n",
    "        minimum_duration = \"whole\"\n",
    "        distance = float('inf')\n",
    "        for duration_type, duration_length in duration_map.items():\n",
    "            if abs(duration_length - length) < distance:\n",
    "                distance = abs(duration_length - length)\n",
    "                minimum_duration = duration_type\n",
    "        song[\"duration_type\"] = minimum_duration\n",
    "        song[\"length\"] = duration_map[minimum_duration]\n",
    "\n",
    "\n",
    "def second_preprocess(songs):\n",
    "    for song in songs:\n",
    "        for song_note in song:\n",
    "            map_duration(song_note)\n",
    "    return songs\n",
    "\n",
    "\n",
    "second_preprocess_data = second_preprocess(copy.deepcopy(initial_preprocessed_notes))\n"
   ]
  },
  {
   "cell_type": "markdown",
   "metadata": {
    "collapsed": false
   },
   "source": [
    "#### Check if complex notes are still present"
   ]
  },
  {
   "cell_type": "code",
   "execution_count": 34,
   "metadata": {
    "collapsed": false,
    "pycharm": {
     "name": "#%%\n"
    }
   },
   "outputs": [
    {
     "name": "stdout",
     "output_type": "stream",
     "text": [
      "Randomly selected song id: 6\n"
     ]
    },
    {
     "data": {
      "text/plain": "Empty DataFrame\nColumns: [note, duration_type, length]\nIndex: []",
      "text/html": "<div>\n<style scoped>\n    .dataframe tbody tr th:only-of-type {\n        vertical-align: middle;\n    }\n\n    .dataframe tbody tr th {\n        vertical-align: top;\n    }\n\n    .dataframe thead th {\n        text-align: right;\n    }\n</style>\n<table border=\"1\" class=\"dataframe\">\n  <thead>\n    <tr style=\"text-align: right;\">\n      <th></th>\n      <th>note</th>\n      <th>duration_type</th>\n      <th>length</th>\n    </tr>\n  </thead>\n  <tbody>\n  </tbody>\n</table>\n</div>"
     },
     "execution_count": 34,
     "metadata": {},
     "output_type": "execute_result"
    }
   ],
   "source": [
    "random_song, random_song_id = get_random_song(second_preprocess_data)\n",
    "data_frame = pd.DataFrame(random_song)\n",
    "# show complex notes\n",
    "flats = data_frame[data_frame[\"duration_type\"] == \"complex\"]\n",
    "print(\"Randomly selected song id:\", random_song_id)\n",
    "flats.head(10)"
   ]
  },
  {
   "cell_type": "markdown",
   "metadata": {
    "pycharm": {
     "name": "#%% md\n"
    }
   },
   "source": [
    "#### Check if 32nd notes are still present"
   ]
  },
  {
   "cell_type": "code",
   "execution_count": 35,
   "metadata": {
    "collapsed": false,
    "pycharm": {
     "name": "#%%\n"
    }
   },
   "outputs": [
    {
     "name": "stdout",
     "output_type": "stream",
     "text": [
      "Randomly selected song id: 5\n"
     ]
    },
    {
     "data": {
      "text/plain": "Empty DataFrame\nColumns: [note, duration_type, length]\nIndex: []",
      "text/html": "<div>\n<style scoped>\n    .dataframe tbody tr th:only-of-type {\n        vertical-align: middle;\n    }\n\n    .dataframe tbody tr th {\n        vertical-align: top;\n    }\n\n    .dataframe thead th {\n        text-align: right;\n    }\n</style>\n<table border=\"1\" class=\"dataframe\">\n  <thead>\n    <tr style=\"text-align: right;\">\n      <th></th>\n      <th>note</th>\n      <th>duration_type</th>\n      <th>length</th>\n    </tr>\n  </thead>\n  <tbody>\n  </tbody>\n</table>\n</div>"
     },
     "execution_count": 35,
     "metadata": {},
     "output_type": "execute_result"
    }
   ],
   "source": [
    "random_song, random_song_id = get_random_song(second_preprocess_data)\n",
    "data_frame = pd.DataFrame(random_song)\n",
    "# show 32nd notes\n",
    "flats = data_frame[data_frame[\"duration_type\"] == \"32nd\"]\n",
    "print(\"Randomly selected song id:\", random_song_id)\n",
    "flats.head(10)"
   ]
  },
  {
   "cell_type": "markdown",
   "metadata": {
    "pycharm": {
     "name": "#%% md\n"
    }
   },
   "source": [
    "### Utility functions in checking octave frequency"
   ]
  },
  {
   "cell_type": "markdown",
   "metadata": {
    "collapsed": false
   },
   "source": [
    "#### Function that returns octave frequency in all songs"
   ]
  },
  {
   "cell_type": "code",
   "execution_count": 36,
   "metadata": {
    "collapsed": false,
    "pycharm": {
     "name": "#%%\n"
    }
   },
   "outputs": [
    {
     "data": {
      "text/plain": "{'4': 3486, '3': 286, '5': 2976, '6': 338}"
     },
     "execution_count": 36,
     "metadata": {},
     "output_type": "execute_result"
    }
   ],
   "source": [
    "def get_octave_frequency(songs):\n",
    "    octave_freq = {}\n",
    "    for song in songs:\n",
    "        for song_note in song:\n",
    "            octave = song_note[\"note\"][-1]\n",
    "            if octave not in octave_freq:\n",
    "                octave_freq[octave] = 0\n",
    "            octave_freq[octave] += 1\n",
    "    return octave_freq\n",
    "\n",
    "\n",
    "octave_frequency = get_octave_frequency(second_preprocess_data)\n",
    "octave_frequency"
   ]
  },
  {
   "cell_type": "markdown",
   "metadata": {
    "collapsed": false
   },
   "source": [
    "#### Function that returns octave frequency of a song"
   ]
  },
  {
   "cell_type": "code",
   "execution_count": 37,
   "metadata": {
    "collapsed": false,
    "pycharm": {
     "name": "#%%\n"
    }
   },
   "outputs": [],
   "source": [
    "def octave_frequency_by_song(song):\n",
    "    octave_freq = {}\n",
    "    for song_note in song:\n",
    "        octave = song_note[\"note\"][-1]\n",
    "        if octave not in octave_freq:\n",
    "            octave_freq[octave] = 0\n",
    "        octave_freq[octave] += 1\n",
    "    return octave_freq"
   ]
  },
  {
   "cell_type": "markdown",
   "metadata": {
    "collapsed": false
   },
   "source": [
    "#### Function that returns octave frequency of each song"
   ]
  },
  {
   "cell_type": "code",
   "execution_count": 38,
   "metadata": {
    "collapsed": false,
    "pycharm": {
     "name": "#%%\n"
    }
   },
   "outputs": [
    {
     "name": "stdout",
     "output_type": "stream",
     "text": [
      "Song no: 0\n",
      "{'4': 238, '3': 12, '5': 42}\n",
      "Song no: 1\n",
      "{'3': 12, '4': 151, '5': 307}\n",
      "Song no: 2\n",
      "{'4': 16, '5': 276, '6': 3}\n",
      "Song no: 3\n",
      "{'4': 223, '5': 151}\n",
      "Song no: 4\n",
      "{'5': 381, '4': 137}\n",
      "Song no: 5\n",
      "{'4': 360, '3': 14}\n",
      "Song no: 6\n",
      "{'5': 180, '4': 247, '6': 7}\n",
      "Song no: 7\n",
      "{'4': 528, '3': 26, '5': 24}\n",
      "Song no: 8\n",
      "{'5': 299, '4': 223}\n",
      "Song no: 9\n",
      "{'4': 215, '5': 222, '6': 5}\n",
      "Song no: 10\n",
      "{'4': 289, '5': 100}\n",
      "Song no: 11\n",
      "{'4': 341, '3': 119, '5': 4}\n",
      "Song no: 12\n",
      "{'4': 18, '5': 505, '6': 26}\n",
      "Song no: 13\n",
      "{'5': 210, '6': 291, '4': 3}\n",
      "Song no: 14\n",
      "{'4': 367, '3': 84, '5': 17}\n",
      "Song no: 15\n",
      "{'3': 19, '4': 130, '5': 258, '6': 6}\n"
     ]
    }
   ],
   "source": [
    "def octave_frequency_by_songs(songs):\n",
    "    octave_freq_list = []\n",
    "    for song in songs:\n",
    "        octave_freq_by_song = octave_frequency_by_song(song)\n",
    "        octave_freq_list.append(octave_freq_by_song)\n",
    "    return octave_freq_list\n",
    "\n",
    "\n",
    "#individual songs\n",
    "octave_frequency_list = octave_frequency_by_songs(second_preprocess_data)\n",
    "for i, ofl in enumerate(octave_frequency_list):\n",
    "    print(f\"Song no: {i}\")\n",
    "    print(ofl)\n"
   ]
  },
  {
   "cell_type": "markdown",
   "metadata": {
    "collapsed": false,
    "pycharm": {
     "name": "#%% md\n"
    }
   },
   "source": [
    "### View random song containing notes not belonging to the dominant octaves\n",
    "Some songs contain notes not belonging to 4th and fifth octaves (outlier notes)"
   ]
  },
  {
   "cell_type": "code",
   "execution_count": 39,
   "metadata": {
    "pycharm": {
     "name": "#%%\n"
    }
   },
   "outputs": [
    {
     "name": "stdout",
     "output_type": "stream",
     "text": [
      "Randomly selected song id: 13\n"
     ]
    },
    {
     "data": {
      "text/plain": "   note duration_type  length\n13   C6          16th    0.25\n15   C6        eighth    0.50\n17   C6        eighth    0.50\n29   C6          16th    0.25\n59   C6          16th    0.25\n60   C6          16th    0.25\n61   C6          16th    0.25\n62   C6          16th    0.25\n63   C6        eighth    0.50\n76   C6          16th    0.25",
      "text/html": "<div>\n<style scoped>\n    .dataframe tbody tr th:only-of-type {\n        vertical-align: middle;\n    }\n\n    .dataframe tbody tr th {\n        vertical-align: top;\n    }\n\n    .dataframe thead th {\n        text-align: right;\n    }\n</style>\n<table border=\"1\" class=\"dataframe\">\n  <thead>\n    <tr style=\"text-align: right;\">\n      <th></th>\n      <th>note</th>\n      <th>duration_type</th>\n      <th>length</th>\n    </tr>\n  </thead>\n  <tbody>\n    <tr>\n      <th>13</th>\n      <td>C6</td>\n      <td>16th</td>\n      <td>0.25</td>\n    </tr>\n    <tr>\n      <th>15</th>\n      <td>C6</td>\n      <td>eighth</td>\n      <td>0.50</td>\n    </tr>\n    <tr>\n      <th>17</th>\n      <td>C6</td>\n      <td>eighth</td>\n      <td>0.50</td>\n    </tr>\n    <tr>\n      <th>29</th>\n      <td>C6</td>\n      <td>16th</td>\n      <td>0.25</td>\n    </tr>\n    <tr>\n      <th>59</th>\n      <td>C6</td>\n      <td>16th</td>\n      <td>0.25</td>\n    </tr>\n    <tr>\n      <th>60</th>\n      <td>C6</td>\n      <td>16th</td>\n      <td>0.25</td>\n    </tr>\n    <tr>\n      <th>61</th>\n      <td>C6</td>\n      <td>16th</td>\n      <td>0.25</td>\n    </tr>\n    <tr>\n      <th>62</th>\n      <td>C6</td>\n      <td>16th</td>\n      <td>0.25</td>\n    </tr>\n    <tr>\n      <th>63</th>\n      <td>C6</td>\n      <td>eighth</td>\n      <td>0.50</td>\n    </tr>\n    <tr>\n      <th>76</th>\n      <td>C6</td>\n      <td>16th</td>\n      <td>0.25</td>\n    </tr>\n  </tbody>\n</table>\n</div>"
     },
     "execution_count": 39,
     "metadata": {},
     "output_type": "execute_result"
    }
   ],
   "source": [
    "random_song, random_song_id = get_random_song(second_preprocess_data)\n",
    "data_frame = pd.DataFrame(random_song)\n",
    "\n",
    "flats = data_frame[(~data_frame[\"note\"].str.contains(\"4\")) & (~data_frame[\"note\"].str.contains(\"5\"))]\n",
    "print(\"Randomly selected song id:\", random_song_id)\n",
    "flats.head(10)\n"
   ]
  },
  {
   "cell_type": "markdown",
   "metadata": {
    "collapsed": false,
    "pycharm": {
     "name": "#%% md\n"
    }
   },
   "source": [
    "## Third Preprocessing\n"
   ]
  },
  {
   "cell_type": "markdown",
   "metadata": {
    "collapsed": false
   },
   "source": [
    "#### This function gets the frequency of octaves of a song and sorts them\n",
    "The sorted frequency of octaves will identify the most dominant octaves of the song."
   ]
  },
  {
   "cell_type": "code",
   "execution_count": 40,
   "metadata": {
    "collapsed": false,
    "pycharm": {
     "name": "#%%\n"
    }
   },
   "outputs": [],
   "source": [
    "def octave_preprocessing(song):\n",
    "    octave_freq = octave_frequency_by_song(song)\n",
    "\n",
    "    if len(octave_freq) >= 2 or \"4\" not in octave_freq or \"5\" not in octave_freq:\n",
    "        octave_sorted = []\n",
    "        for song_key, song_key_frequency in octave_freq.items():\n",
    "            octave_sorted.append((song_key, song_key_frequency))\n",
    "        octave_sorted.sort(key=lambda x: -x[1])\n",
    "        print(octave_sorted)\n",
    "        to_dual_octaves(song, octave_sorted)"
   ]
  },
  {
   "cell_type": "markdown",
   "metadata": {
    "collapsed": false
   },
   "source": [
    "#### This function rescales octaves of notes to the dominant octaves of the song\n",
    "There are only two octaves proposed in the output class of the model. Hence, songs with\n",
    "multiple octaves should rescale their outlier octaves to the nearest dominant octaves."
   ]
  },
  {
   "cell_type": "code",
   "execution_count": 41,
   "metadata": {
    "collapsed": false,
    "pycharm": {
     "name": "#%%\n"
    }
   },
   "outputs": [],
   "source": [
    "def to_dual_octaves(song, octave_sorted):\n",
    "    lower_octave_details, higher_octave_details = sorted(octave_sorted[:2], key=lambda x: x[0])\n",
    "    for song_note in song:\n",
    "        octave = song_note[\"note\"][-1]\n",
    "        if octave < lower_octave_details[0]:\n",
    "            song_note[\"note\"] = song_note[\"note\"][:-1] + lower_octave_details[0]\n",
    "        elif octave > higher_octave_details[0]:\n",
    "            song_note[\"note\"] = song_note[\"note\"][:-1] + higher_octave_details[0]\n",
    "\n",
    "    octave_freq = octave_frequency_by_song(song)\n",
    "\n",
    "    if \"4\" not in octave_freq or \"5\" not in octave_freq:\n",
    "        rescale_octave(song, lower_octave_details, higher_octave_details)\n"
   ]
  },
  {
   "cell_type": "markdown",
   "metadata": {
    "collapsed": false,
    "pycharm": {
     "name": "#%% md\n"
    }
   },
   "source": [
    "#### This function rescales octaves to fit the octaves in output class\n",
    "Some songs have dominant octaves from 3rd to 4th octaves or from 5th to 6th octaves. This method rescales dominant\n",
    "octaves of the song to 4th and 5th octaves to fit the proposed output classes."
   ]
  },
  {
   "cell_type": "code",
   "execution_count": 42,
   "metadata": {
    "collapsed": false,
    "pycharm": {
     "name": "#%%\n"
    }
   },
   "outputs": [],
   "source": [
    "def rescale_octave(song, lower_octave_details, higher_octave_details):\n",
    "    lower_octave = lower_octave_details[0]\n",
    "    higher_octave = higher_octave_details[0]\n",
    "    for midi_note in song:\n",
    "        octave = midi_note[\"note\"][-1]\n",
    "        if octave == lower_octave:\n",
    "            midi_note[\"note\"] = midi_note[\"note\"][:-1] + \"4\"\n",
    "        elif octave == higher_octave:\n",
    "            midi_note[\"note\"] = midi_note[\"note\"][:-1] + \"5\"\n",
    "    note_freq_per_note = octave_frequency_by_song(song)\n",
    "    print(note_freq_per_note)"
   ]
  },
  {
   "cell_type": "code",
   "execution_count": 43,
   "metadata": {
    "collapsed": false,
    "pycharm": {
     "name": "#%%\n"
    }
   },
   "outputs": [
    {
     "name": "stdout",
     "output_type": "stream",
     "text": [
      "[('4', 238), ('5', 42), ('3', 12)]\n",
      "[('5', 307), ('4', 151), ('3', 12)]\n",
      "[('5', 276), ('4', 16), ('6', 3)]\n",
      "[('4', 223), ('5', 151)]\n",
      "[('5', 381), ('4', 137)]\n",
      "[('4', 360), ('3', 14)]\n",
      "{'5': 360, '4': 14}\n",
      "[('4', 247), ('5', 180), ('6', 7)]\n",
      "[('4', 528), ('3', 26), ('5', 24)]\n",
      "{'5': 552, '4': 26}\n",
      "[('5', 299), ('4', 223)]\n",
      "[('5', 222), ('4', 215), ('6', 5)]\n",
      "[('4', 289), ('5', 100)]\n",
      "[('4', 341), ('3', 119), ('5', 4)]\n",
      "{'5': 345, '4': 119}\n",
      "[('5', 505), ('6', 26), ('4', 18)]\n",
      "{'4': 523, '5': 26}\n",
      "[('6', 291), ('5', 210), ('4', 3)]\n",
      "{'4': 213, '5': 291}\n",
      "[('4', 367), ('3', 84), ('5', 17)]\n",
      "{'5': 384, '4': 84}\n",
      "[('5', 258), ('4', 130), ('3', 19), ('6', 6)]\n"
     ]
    }
   ],
   "source": [
    "# run third preprocessing\n",
    "def third_preprocessing(songs):\n",
    "    for song in songs:\n",
    "        octave_preprocessing(song)\n",
    "    return songs\n",
    "\n",
    "\n",
    "third_preprocessed_data = third_preprocessing(copy.deepcopy(second_preprocess_data))"
   ]
  },
  {
   "cell_type": "markdown",
   "metadata": {
    "pycharm": {
     "name": "#%% md\n"
    }
   },
   "source": [
    "### View random song containing notes not belonging to the dominant octaves\n",
    "Randomly select a song to check the effect of third preprocessing"
   ]
  },
  {
   "cell_type": "code",
   "execution_count": 44,
   "metadata": {
    "collapsed": false,
    "pycharm": {
     "name": "#%%\n"
    }
   },
   "outputs": [
    {
     "name": "stdout",
     "output_type": "stream",
     "text": [
      "Randomly selected song id: 10\n"
     ]
    },
    {
     "data": {
      "text/plain": "Empty DataFrame\nColumns: [note, duration_type, length]\nIndex: []",
      "text/html": "<div>\n<style scoped>\n    .dataframe tbody tr th:only-of-type {\n        vertical-align: middle;\n    }\n\n    .dataframe tbody tr th {\n        vertical-align: top;\n    }\n\n    .dataframe thead th {\n        text-align: right;\n    }\n</style>\n<table border=\"1\" class=\"dataframe\">\n  <thead>\n    <tr style=\"text-align: right;\">\n      <th></th>\n      <th>note</th>\n      <th>duration_type</th>\n      <th>length</th>\n    </tr>\n  </thead>\n  <tbody>\n  </tbody>\n</table>\n</div>"
     },
     "execution_count": 44,
     "metadata": {},
     "output_type": "execute_result"
    }
   ],
   "source": [
    "random_song, random_song_id = get_random_song(third_preprocessed_data)\n",
    "data_frame = pd.DataFrame(random_song)\n",
    "# show outlier octaves notes\n",
    "flats = data_frame[(~data_frame[\"note\"].str.contains(\"4\")) & (~data_frame[\"note\"].str.contains(\"5\"))]\n",
    "print(\"Randomly selected song id:\", random_song_id)\n",
    "flats.head(10)"
   ]
  },
  {
   "cell_type": "markdown",
   "metadata": {
    "pycharm": {
     "name": "#%% md\n"
    }
   },
   "source": [
    "The result of the third preprocessing based on octave_frequency on the sample dataset"
   ]
  },
  {
   "cell_type": "code",
   "execution_count": 45,
   "metadata": {
    "collapsed": false,
    "pycharm": {
     "name": "#%%\n"
    }
   },
   "outputs": [
    {
     "data": {
      "text/plain": "{'4': 2891, '5': 4195}"
     },
     "execution_count": 45,
     "metadata": {},
     "output_type": "execute_result"
    }
   ],
   "source": [
    "octave_frequency = get_octave_frequency(third_preprocessed_data)\n",
    "octave_frequency"
   ]
  },
  {
   "cell_type": "markdown",
   "metadata": {},
   "source": [
    "### Conversion to Integer\n",
    "The following preprocessing step will convert the MIDI objects to integers that can be used to train the model.\n",
    "\n",
    "There are 12 notes in total within an octave (C, C#, D, D#, E, F, F#, G, G#, A, A#, B) with 5 different duration types (whole, half, quarter, eighth, 16th). The mapping that will be used groups similar pitches within an octave together, which leads to groups of 5. In total, there are `12 notes * 5 duration types * 2 octaves = 120` note mappings.\n",
    "\n",
    "`notes_map` is a bidirectional dictionary that maps the note name to the first index of the pitch's group within an octave. \n",
    "\n",
    "`train_duration_map` is a bidirectional dictionary that maps the duration type to its corresponding integer. This is used to offset the number in `notes_map` to get the correct note pitch and duration.\n",
    "\n",
    "Currently, the baseline octave is the 4th octave. Any octave above that will offset the corresponding integer by `12 notes * 5 durations = 60` indices (e.g. C4 whole note is index 0, C5 whole note is index 60, C6 whole note is 120, etc.)."
   ]
  },
  {
   "cell_type": "code",
   "execution_count": 50,
   "metadata": {
    "pycharm": {
     "name": "#%%\n"
    }
   },
   "outputs": [],
   "source": [
    "\n",
    "notes_map = bidict({\n",
    "    'C': 0,\n",
    "    'C#': 5,\n",
    "    'D': 10,\n",
    "    'D#': 15,\n",
    "    'E': 20,\n",
    "    'F': 25,\n",
    "    'F#': 30,\n",
    "    'G': 35,\n",
    "    'G#': 40,\n",
    "    'A': 45,\n",
    "    'A#': 50,\n",
    "    'B': 55,\n",
    "})\n",
    "train_duration_map = bidict({\n",
    "    'whole': 0,\n",
    "    'half': 1,\n",
    "    'quarter': 2,\n",
    "    'eighth': 3,\n",
    "    '16th': 4,\n",
    "})\n",
    "\n",
    "\n",
    "def map_note_to_int(song_note):\n",
    "    pitch = song_note[\"note\"][:-1]\n",
    "    octave = int(song_note[\"note\"][-1])\n",
    "\n",
    "    return notes_map[pitch] + train_duration_map[song_note[\"duration_type\"]] + ((octave - 4) * 60)"
   ]
  },
  {
   "cell_type": "markdown",
   "metadata": {},
   "source": [
    "#### To trainable data, an example:\n",
    "Given the explanation of the mapping above, the calculation of the integer representation of a note is as follows:\n",
    "```\n",
    "(note_idx * 5) + duration_idx + ((octave - 4) * 60)\n",
    "```\n",
    "The `octave - 4` portion of the equation assumes that the baseline/0th index octave is 4th octave. `note_map`'s values already consider the multiplication by 5.\n",
    "\n",
    "Let's say we wish to convert a `C#4 eighth note` to an integer. `C#4` is the **2nd** note in the notes map (index 1), and `eighth` is the **4th** note in the duration map (index 3). `C#4` is in the 4th octave, which means its index will not be offset. The final calculation will be\n",
    "```\n",
    "(1 * 5) + 3 + ((4 - 4) * 60) = 8 \n",
    "```"
   ]
  },
  {
   "cell_type": "code",
   "execution_count": 52,
   "metadata": {},
   "outputs": [
    {
     "data": {
      "text/plain": "8"
     },
     "execution_count": 52,
     "metadata": {},
     "output_type": "execute_result"
    }
   ],
   "source": [
    "map_note_to_int(MIDINote(\"C#4\", \"eighth\", 0.5).as_map)"
   ]
  },
  {
   "cell_type": "markdown",
   "metadata": {},
   "source": [
    "As another example, let us convert `F5 16th note` to an integer. `F5` is the **6th** note in the notes map (index 5), and `16th` is the **5th** type in the duration map (index 4). `F5` is in the 5th octave, which means its index will be offset by `12 notes * 5 durations = 60`. The final calculation will be\n",
    "```\n",
    "(5 * 5) + 4 + ((5-4) * 60) = 89\n",
    "```"
   ]
  },
  {
   "cell_type": "code",
   "execution_count": 53,
   "metadata": {},
   "outputs": [
    {
     "data": {
      "text/plain": "89"
     },
     "execution_count": 53,
     "metadata": {},
     "output_type": "execute_result"
    }
   ],
   "source": [
    "map_note_to_int(MIDINote(\"F5\", \"16th\", 0.25).as_map)"
   ]
  },
  {
   "cell_type": "markdown",
   "metadata": {},
   "source": [
    "The songs, after being converted to an array of `MIDINote`s, will be converted to an array of integers using the `map_note_to_int` function explained earlier."
   ]
  },
  {
   "cell_type": "markdown",
   "metadata": {
    "pycharm": {
     "name": "#%% md\n"
    }
   },
   "source": [
    "#### Applying the integer mapping"
   ]
  },
  {
   "cell_type": "code",
   "execution_count": 54,
   "outputs": [
    {
     "data": {
      "text/plain": "16"
     },
     "execution_count": 54,
     "metadata": {},
     "output_type": "execute_result"
    }
   ],
   "source": [
    "def song_map_to_int(song):\n",
    "    song_notes_to_int = []\n",
    "    for song_note in song:\n",
    "        song_notes_to_int.append(map_note_to_int(song_note))\n",
    "    return song_notes_to_int\n",
    "\n",
    "\n",
    "def songs_map_to_int(songs):\n",
    "    songs_in_int = []\n",
    "    for song in songs:\n",
    "        songs_in_int.append(song_map_to_int(song))\n",
    "    return songs_in_int\n",
    "\n",
    "\n",
    "songs_map_int = songs_map_to_int(third_preprocessed_data)\n",
    "len(songs_map_int)"
   ],
   "metadata": {
    "collapsed": false,
    "pycharm": {
     "name": "#%%\n"
    }
   }
  },
  {
   "cell_type": "markdown",
   "metadata": {
    "pycharm": {
     "name": "#%% md\n"
    }
   },
   "source": [
    "### Generating the input data for the model\n",
    "This final process called **shift append** applies the *sliding window* algorithm of size `sequence_length` to generate\n",
    "the X, and Y values needed as an input for the model.\n",
    "\n",
    "As an example, a song (already mapped to int) has [ 1, 2, 3, 4, 5, 6, 7, 8, 9, 10] elements.\n",
    "\n",
    "Given that we have `sequence_length=4`, the process for the shift append is of follows:\n",
    "\n",
    "**[ 1, 2, 3, 4, 5, 6, 7, 8, 9, 10]**\n",
    "<pre>\n",
    "    x₁            y₁\n",
    "[1, 2, 3, 4] --> [5]\n",
    "\n",
    "       x₂           y₂\n",
    "   [2, 3, 4, 5] --> [6]\n",
    "\n",
    "          x₃           y₃\n",
    "      [3, 4, 5, 6] --> [7]\n",
    "\n",
    "             x₄           y₄\n",
    "         [4, 5, 6, 7] --> [8]\n",
    "\n",
    "                x₅           y₅\n",
    "            [5, 6, 7, 8] --> [9]\n",
    "\n",
    "                   x₆            y₆\n",
    "               [6, 7, 8, 9] --> [10]\n",
    "</pre>\n",
    "Everytime the window of size `sequence_length` slides, the values inside the window are stored\n",
    "as a single `x` value and its corresponding `y` value is the element after the window.\n",
    "\n",
    "The aggregated `x` values and `y` values would then be:\n",
    "\n",
    "<pre>\n",
    "X = [                   Y = [\n",
    "    [1, 2, 3, 4],               5,\n",
    "    [2, 3, 4, 5],               6,\n",
    "    [3, 4, 5, 6],               7,\n",
    "    [4, 5, 6, 7],               8,\n",
    "    [5, 6, 7, 8],               9,\n",
    "    [6, 7, 8, 9]                10,\n",
    "]                           ]\n",
    "</pre>"
   ]
  },
  {
   "cell_type": "code",
   "execution_count": 56,
   "outputs": [],
   "source": [
    "sequence_length = 50\n",
    "\n",
    "def shift_append(song_in_int, seq_len):\n",
    "    _X = []\n",
    "    _Y = []\n",
    "    limit = len(song_in_int) - seq_len\n",
    "    for index in range(limit):\n",
    "        _X.append(song_in_int[index:index + seq_len])\n",
    "        _Y.append(song_in_int[index + seq_len])\n",
    "\n",
    "    return _X, _Y\n",
    "\n",
    "\n",
    "def shift_append_songs(songs_in_int, seq_len):\n",
    "    X = []\n",
    "    Y = []\n",
    "    for song_in_int in songs_in_int:\n",
    "        x, y = shift_append(song_in_int, seq_len)\n",
    "        X += x\n",
    "        Y += y\n",
    "    return np.array(X), np.array(Y)\n",
    "\n",
    "\n",
    "X_train, Y_train = shift_append_songs(songs_map_int, sequence_length)"
   ],
   "metadata": {
    "collapsed": false,
    "pycharm": {
     "name": "#%%\n"
    }
   }
  },
  {
   "cell_type": "markdown",
   "metadata": {
    "pycharm": {
     "name": "#%% md\n"
    }
   },
   "source": [
    "#### Dimensions for X_train"
   ]
  },
  {
   "cell_type": "code",
   "execution_count": 57,
   "outputs": [
    {
     "data": {
      "text/plain": "(6286, 50)"
     },
     "execution_count": 57,
     "metadata": {},
     "output_type": "execute_result"
    }
   ],
   "source": [
    "X_train.shape"
   ],
   "metadata": {
    "collapsed": false,
    "pycharm": {
     "name": "#%%\n"
    }
   }
  },
  {
   "cell_type": "markdown",
   "metadata": {
    "pycharm": {
     "name": "#%% md\n"
    }
   },
   "source": [
    "Dimensions for Y_train"
   ]
  },
  {
   "cell_type": "code",
   "execution_count": null,
   "outputs": [],
   "source": [
    "Y_train.shape"
   ],
   "metadata": {
    "collapsed": false,
    "pycharm": {
     "name": "#%%\n"
    }
   }
  },
  {
   "cell_type": "markdown",
   "metadata": {
    "pycharm": {
     "name": "#%% md\n"
    }
   },
   "source": [
    "#### Saving the training data"
   ]
  },
  {
   "cell_type": "code",
   "execution_count": 59,
   "outputs": [],
   "source": [
    "with open(f'data/x_train_sample.npy', 'wb') as f:\n",
    "    np.save(f, X_train)\n",
    "with open(f'data/y_train_sample.npy', 'wb') as f:\n",
    "    np.save(f, Y_train)"
   ],
   "metadata": {
    "collapsed": false,
    "pycharm": {
     "name": "#%%\n"
    }
   }
  },
  {
   "cell_type": "code",
   "execution_count": null,
   "metadata": {
    "pycharm": {
     "name": "#%%\n"
    }
   },
   "outputs": [],
   "source": []
  }
 ],
 "metadata": {
  "kernelspec": {
   "display_name": "Python 3 (ipykernel)",
   "language": "python",
   "name": "python3"
  },
  "language_info": {
   "codemirror_mode": {
    "name": "ipython",
    "version": 3
   },
   "file_extension": ".py",
   "mimetype": "text/x-python",
   "name": "python",
   "nbconvert_exporter": "python",
   "pygments_lexer": "ipython3",
   "version": "3.8.8"
  }
 },
 "nbformat": 4,
 "nbformat_minor": 1
}